{
 "cells": [
  {
   "cell_type": "markdown",
   "source": "# Students adaptability level online",
   "metadata": {
    "cell_id": "4c571c67e72f46c2835a2cbe5bdd240d",
    "tags": [],
    "deepnote_cell_type": "markdown",
    "deepnote_cell_height": 82
   }
  },
  {
   "cell_type": "code",
   "metadata": {
    "cell_id": "75f51da4b5434493b83e88cf8fb26cda",
    "tags": [],
    "deepnote_to_be_reexecuted": false,
    "source_hash": "cceb3d48",
    "execution_start": 1653021367979,
    "execution_millis": 1351,
    "deepnote_cell_type": "code",
    "deepnote_cell_height": 135
   },
   "source": "import numpy as np\nimport pandas as pd\nimport matplotlib.pyplot as plt\nimport seaborn as sns",
   "execution_count": 1,
   "outputs": []
  },
  {
   "cell_type": "code",
   "metadata": {
    "cell_id": "c8850b1d2fa242f194d263ab016a746d",
    "tags": [],
    "deepnote_to_be_reexecuted": false,
    "source_hash": "7278555f",
    "execution_start": 1653021369335,
    "execution_millis": 53,
    "deepnote_cell_type": "code",
    "deepnote_cell_height": 430
   },
   "source": "df = pd.read_csv('/work/students_adaptability_level_online_education.csv', delimiter=',')\ndf.head(5)",
   "execution_count": 2,
   "outputs": [
    {
     "output_type": "execute_result",
     "execution_count": 2,
     "data": {
      "application/vnd.deepnote.dataframe.v3+json": {
       "column_count": 14,
       "row_count": 5,
       "columns": [
        {
         "name": "Gender",
         "dtype": "object",
         "stats": {
          "unique_count": 2,
          "nan_count": 0,
          "categories": [
           {
            "name": "Girl",
            "count": 4
           },
           {
            "name": "Boy",
            "count": 1
           }
          ]
         }
        },
        {
         "name": "Age",
         "dtype": "object",
         "stats": {
          "unique_count": 3,
          "nan_count": 0,
          "categories": [
           {
            "name": "21-25",
            "count": 2
           },
           {
            "name": "16-20",
            "count": 2
           },
           {
            "name": "11-15",
            "count": 1
           }
          ]
         }
        },
        {
         "name": "Education Level",
         "dtype": "object",
         "stats": {
          "unique_count": 3,
          "nan_count": 0,
          "categories": [
           {
            "name": "University",
            "count": 2
           },
           {
            "name": "School",
            "count": 2
           },
           {
            "name": "College",
            "count": 1
           }
          ]
         }
        },
        {
         "name": "Institution Type",
         "dtype": "object",
         "stats": {
          "unique_count": 2,
          "nan_count": 0,
          "categories": [
           {
            "name": "Non Government",
            "count": 4
           },
           {
            "name": "Government",
            "count": 1
           }
          ]
         }
        },
        {
         "name": "IT Student",
         "dtype": "object",
         "stats": {
          "unique_count": 1,
          "nan_count": 0,
          "categories": [
           {
            "name": "No",
            "count": 5
           }
          ]
         }
        },
        {
         "name": "Location",
         "dtype": "object",
         "stats": {
          "unique_count": 1,
          "nan_count": 0,
          "categories": [
           {
            "name": "Yes",
            "count": 5
           }
          ]
         }
        },
        {
         "name": "Load-shedding",
         "dtype": "object",
         "stats": {
          "unique_count": 2,
          "nan_count": 0,
          "categories": [
           {
            "name": "Low",
            "count": 4
           },
           {
            "name": "High",
            "count": 1
           }
          ]
         }
        },
        {
         "name": "Financial Condition",
         "dtype": "object",
         "stats": {
          "unique_count": 2,
          "nan_count": 0,
          "categories": [
           {
            "name": "Mid",
            "count": 4
           },
           {
            "name": "Poor",
            "count": 1
           }
          ]
         }
        },
        {
         "name": "Internet Type",
         "dtype": "object",
         "stats": {
          "unique_count": 2,
          "nan_count": 0,
          "categories": [
           {
            "name": "Mobile Data",
            "count": 3
           },
           {
            "name": "Wifi",
            "count": 2
           }
          ]
         }
        },
        {
         "name": "Network Type",
         "dtype": "object",
         "stats": {
          "unique_count": 2,
          "nan_count": 0,
          "categories": [
           {
            "name": "4G",
            "count": 4
           },
           {
            "name": "3G",
            "count": 1
           }
          ]
         }
        },
        {
         "name": "Class Duration",
         "dtype": "object",
         "stats": {
          "unique_count": 3,
          "nan_count": 0,
          "categories": [
           {
            "name": "1-3",
            "count": 3
           },
           {
            "name": "3-6",
            "count": 1
           },
           {
            "name": "0",
            "count": 1
           }
          ]
         }
        },
        {
         "name": "Self Lms",
         "dtype": "object",
         "stats": {
          "unique_count": 2,
          "nan_count": 0,
          "categories": [
           {
            "name": "No",
            "count": 4
           },
           {
            "name": "Yes",
            "count": 1
           }
          ]
         }
        },
        {
         "name": "Device",
         "dtype": "object",
         "stats": {
          "unique_count": 2,
          "nan_count": 0,
          "categories": [
           {
            "name": "Mobile",
            "count": 4
           },
           {
            "name": "Tab",
            "count": 1
           }
          ]
         }
        },
        {
         "name": "Adaptivity Level",
         "dtype": "object",
         "stats": {
          "unique_count": 2,
          "nan_count": 0,
          "categories": [
           {
            "name": "Moderate",
            "count": 4
           },
           {
            "name": "Low",
            "count": 1
           }
          ]
         }
        },
        {
         "name": "_deepnote_index_column",
         "dtype": "int64"
        }
       ],
       "rows": [
        {
         "Gender": "Boy",
         "Age": "21-25",
         "Education Level": "University",
         "Institution Type": "Non Government",
         "IT Student": "No",
         "Location": "Yes",
         "Load-shedding": "Low",
         "Financial Condition": "Mid",
         "Internet Type": "Wifi",
         "Network Type": "4G",
         "Class Duration": "3-6",
         "Self Lms": "No",
         "Device": "Tab",
         "Adaptivity Level": "Moderate",
         "_deepnote_index_column": 0
        },
        {
         "Gender": "Girl",
         "Age": "21-25",
         "Education Level": "University",
         "Institution Type": "Non Government",
         "IT Student": "No",
         "Location": "Yes",
         "Load-shedding": "High",
         "Financial Condition": "Mid",
         "Internet Type": "Mobile Data",
         "Network Type": "4G",
         "Class Duration": "1-3",
         "Self Lms": "Yes",
         "Device": "Mobile",
         "Adaptivity Level": "Moderate",
         "_deepnote_index_column": 1
        },
        {
         "Gender": "Girl",
         "Age": "16-20",
         "Education Level": "College",
         "Institution Type": "Government",
         "IT Student": "No",
         "Location": "Yes",
         "Load-shedding": "Low",
         "Financial Condition": "Mid",
         "Internet Type": "Wifi",
         "Network Type": "4G",
         "Class Duration": "1-3",
         "Self Lms": "No",
         "Device": "Mobile",
         "Adaptivity Level": "Moderate",
         "_deepnote_index_column": 2
        },
        {
         "Gender": "Girl",
         "Age": "11-15",
         "Education Level": "School",
         "Institution Type": "Non Government",
         "IT Student": "No",
         "Location": "Yes",
         "Load-shedding": "Low",
         "Financial Condition": "Mid",
         "Internet Type": "Mobile Data",
         "Network Type": "4G",
         "Class Duration": "1-3",
         "Self Lms": "No",
         "Device": "Mobile",
         "Adaptivity Level": "Moderate",
         "_deepnote_index_column": 3
        },
        {
         "Gender": "Girl",
         "Age": "16-20",
         "Education Level": "School",
         "Institution Type": "Non Government",
         "IT Student": "No",
         "Location": "Yes",
         "Load-shedding": "Low",
         "Financial Condition": "Poor",
         "Internet Type": "Mobile Data",
         "Network Type": "3G",
         "Class Duration": "0",
         "Self Lms": "No",
         "Device": "Mobile",
         "Adaptivity Level": "Low",
         "_deepnote_index_column": 4
        }
       ]
      },
      "text/plain": "  Gender    Age Education Level Institution Type IT Student Location  \\\n0    Boy  21-25      University   Non Government         No      Yes   \n1   Girl  21-25      University   Non Government         No      Yes   \n2   Girl  16-20         College       Government         No      Yes   \n3   Girl  11-15          School   Non Government         No      Yes   \n4   Girl  16-20          School   Non Government         No      Yes   \n\n  Load-shedding Financial Condition Internet Type Network Type Class Duration  \\\n0           Low                 Mid          Wifi           4G            3-6   \n1          High                 Mid   Mobile Data           4G            1-3   \n2           Low                 Mid          Wifi           4G            1-3   \n3           Low                 Mid   Mobile Data           4G            1-3   \n4           Low                Poor   Mobile Data           3G              0   \n\n  Self Lms  Device Adaptivity Level  \n0       No     Tab         Moderate  \n1      Yes  Mobile         Moderate  \n2       No  Mobile         Moderate  \n3       No  Mobile         Moderate  \n4       No  Mobile              Low  ",
      "text/html": "<div>\n<style scoped>\n    .dataframe tbody tr th:only-of-type {\n        vertical-align: middle;\n    }\n\n    .dataframe tbody tr th {\n        vertical-align: top;\n    }\n\n    .dataframe thead th {\n        text-align: right;\n    }\n</style>\n<table border=\"1\" class=\"dataframe\">\n  <thead>\n    <tr style=\"text-align: right;\">\n      <th></th>\n      <th>Gender</th>\n      <th>Age</th>\n      <th>Education Level</th>\n      <th>Institution Type</th>\n      <th>IT Student</th>\n      <th>Location</th>\n      <th>Load-shedding</th>\n      <th>Financial Condition</th>\n      <th>Internet Type</th>\n      <th>Network Type</th>\n      <th>Class Duration</th>\n      <th>Self Lms</th>\n      <th>Device</th>\n      <th>Adaptivity Level</th>\n    </tr>\n  </thead>\n  <tbody>\n    <tr>\n      <th>0</th>\n      <td>Boy</td>\n      <td>21-25</td>\n      <td>University</td>\n      <td>Non Government</td>\n      <td>No</td>\n      <td>Yes</td>\n      <td>Low</td>\n      <td>Mid</td>\n      <td>Wifi</td>\n      <td>4G</td>\n      <td>3-6</td>\n      <td>No</td>\n      <td>Tab</td>\n      <td>Moderate</td>\n    </tr>\n    <tr>\n      <th>1</th>\n      <td>Girl</td>\n      <td>21-25</td>\n      <td>University</td>\n      <td>Non Government</td>\n      <td>No</td>\n      <td>Yes</td>\n      <td>High</td>\n      <td>Mid</td>\n      <td>Mobile Data</td>\n      <td>4G</td>\n      <td>1-3</td>\n      <td>Yes</td>\n      <td>Mobile</td>\n      <td>Moderate</td>\n    </tr>\n    <tr>\n      <th>2</th>\n      <td>Girl</td>\n      <td>16-20</td>\n      <td>College</td>\n      <td>Government</td>\n      <td>No</td>\n      <td>Yes</td>\n      <td>Low</td>\n      <td>Mid</td>\n      <td>Wifi</td>\n      <td>4G</td>\n      <td>1-3</td>\n      <td>No</td>\n      <td>Mobile</td>\n      <td>Moderate</td>\n    </tr>\n    <tr>\n      <th>3</th>\n      <td>Girl</td>\n      <td>11-15</td>\n      <td>School</td>\n      <td>Non Government</td>\n      <td>No</td>\n      <td>Yes</td>\n      <td>Low</td>\n      <td>Mid</td>\n      <td>Mobile Data</td>\n      <td>4G</td>\n      <td>1-3</td>\n      <td>No</td>\n      <td>Mobile</td>\n      <td>Moderate</td>\n    </tr>\n    <tr>\n      <th>4</th>\n      <td>Girl</td>\n      <td>16-20</td>\n      <td>School</td>\n      <td>Non Government</td>\n      <td>No</td>\n      <td>Yes</td>\n      <td>Low</td>\n      <td>Poor</td>\n      <td>Mobile Data</td>\n      <td>3G</td>\n      <td>0</td>\n      <td>No</td>\n      <td>Mobile</td>\n      <td>Low</td>\n    </tr>\n  </tbody>\n</table>\n</div>"
     },
     "metadata": {}
    }
   ]
  },
  {
   "cell_type": "code",
   "source": "df.shape",
   "metadata": {
    "cell_id": "b410803340f04292ba3e919b46647cc3",
    "tags": [],
    "deepnote_to_be_reexecuted": false,
    "source_hash": "14f60b8f",
    "execution_start": 1653021369392,
    "execution_millis": 3,
    "deepnote_cell_type": "code",
    "deepnote_cell_height": 118.1875,
    "deepnote_output_heights": [
     21.1875
    ]
   },
   "outputs": [
    {
     "output_type": "execute_result",
     "execution_count": 3,
     "data": {
      "text/plain": "(1205, 14)"
     },
     "metadata": {}
    }
   ],
   "execution_count": 3
  },
  {
   "cell_type": "markdown",
   "source": "## Limpieza de datos\n\nPara este dataset no tuve muchos problemas con la limpieza de datos, por lo que únicamente tuve que asignarle el tipo de dato correcto para cada variable",
   "metadata": {
    "cell_id": "04b3149452cd4e17882f847a913edb4c",
    "tags": [],
    "deepnote_cell_type": "markdown",
    "deepnote_cell_height": 130.78125
   }
  },
  {
   "cell_type": "code",
   "metadata": {
    "cell_id": "1ab9da9c1eff484b87d37624a016cf8c",
    "tags": [],
    "deepnote_to_be_reexecuted": false,
    "source_hash": "de1e323c",
    "execution_start": 1653021369399,
    "execution_millis": 12,
    "deepnote_cell_type": "code",
    "deepnote_cell_height": 515.9375
   },
   "source": "df.info()",
   "execution_count": 4,
   "outputs": [
    {
     "name": "stdout",
     "text": "<class 'pandas.core.frame.DataFrame'>\nRangeIndex: 1205 entries, 0 to 1204\nData columns (total 14 columns):\n #   Column               Non-Null Count  Dtype \n---  ------               --------------  ----- \n 0   Gender               1205 non-null   object\n 1   Age                  1205 non-null   object\n 2   Education Level      1205 non-null   object\n 3   Institution Type     1205 non-null   object\n 4   IT Student           1205 non-null   object\n 5   Location             1205 non-null   object\n 6   Load-shedding        1205 non-null   object\n 7   Financial Condition  1205 non-null   object\n 8   Internet Type        1205 non-null   object\n 9   Network Type         1205 non-null   object\n 10  Class Duration       1205 non-null   object\n 11  Self Lms             1205 non-null   object\n 12  Device               1205 non-null   object\n 13  Adaptivity Level     1205 non-null   object\ndtypes: object(14)\nmemory usage: 131.9+ KB\n",
     "output_type": "stream"
    }
   ]
  },
  {
   "cell_type": "markdown",
   "source": "En la columna 'Institution Type' existen dos posibles valores: Government y Non Government. Quise cambiarle el nombre para que sea más fácil de entender, teniendo en cuenta que la mayoria de Instituciones que no pertenecen al gobierno son privadas o semiprivadas en su defecto. ",
   "metadata": {
    "cell_id": "947c67801eed4f159eef1e748e05e81a",
    "tags": [],
    "deepnote_cell_type": "markdown",
    "deepnote_cell_height": 97.171875
   }
  },
  {
   "cell_type": "code",
   "source": "df['Institution Type'] = df['Institution Type'].apply(lambda x: 'Private' if x == 'Non Government' else x)",
   "metadata": {
    "cell_id": "da6b3e24cae54161bfab0ae48f9e53e7",
    "tags": [],
    "deepnote_to_be_reexecuted": false,
    "source_hash": "b36a513d",
    "execution_start": 1653021369416,
    "execution_millis": 2,
    "deepnote_cell_type": "code",
    "deepnote_cell_height": 81,
    "deepnote_output_heights": [
     117.125
    ]
   },
   "outputs": [],
   "execution_count": 5
  },
  {
   "cell_type": "code",
   "source": "df['Location'] = df['Location'].apply(lambda x: 'Town' if x == 'Yes' else ('City' if x == 'No' else x))",
   "metadata": {
    "cell_id": "e7ea965094ae498ba0c8d0c53a6a3478",
    "tags": [],
    "deepnote_to_be_reexecuted": false,
    "source_hash": "c3663491",
    "execution_start": 1653021369422,
    "execution_millis": 2,
    "deepnote_cell_type": "code",
    "deepnote_cell_height": 81
   },
   "outputs": [],
   "execution_count": 6
  },
  {
   "cell_type": "markdown",
   "source": "Para realizar este análisis consideré que no requería de las columnas 'Self lms' y 'Load-Shedding' por lo que para aligerar el dataframe las eliminé",
   "metadata": {
    "cell_id": "fcdd7cecef294a528b45c70c09d7ae29",
    "tags": [],
    "deepnote_cell_type": "markdown",
    "deepnote_cell_height": 74.78125
   }
  },
  {
   "cell_type": "code",
   "source": "df.drop(['Self Lms'], axis=1, inplace=True)",
   "metadata": {
    "cell_id": "a64a63051ca040629b8abd1039a2aab6",
    "tags": [],
    "deepnote_to_be_reexecuted": false,
    "source_hash": "1a04eda5",
    "execution_start": 1653021369427,
    "execution_millis": 4,
    "owner_user_id": "89f96155-9fbf-4af1-89b2-4108de5d6fc8",
    "deepnote_cell_type": "code",
    "deepnote_cell_height": 81
   },
   "outputs": [],
   "execution_count": 7
  },
  {
   "cell_type": "code",
   "source": "df.drop(['Load-shedding'], axis=1, inplace=True)",
   "metadata": {
    "cell_id": "cc4553f59f0546d88000216a5f12e672",
    "tags": [],
    "deepnote_to_be_reexecuted": false,
    "source_hash": "a5f9546f",
    "execution_start": 1653021369434,
    "execution_millis": 3,
    "deepnote_cell_type": "code",
    "deepnote_cell_height": 81
   },
   "outputs": [],
   "execution_count": 8
  },
  {
   "cell_type": "markdown",
   "source": "Cambié el tipo de datos de algunas variables a 'category' para trabajarlas mejor",
   "metadata": {
    "cell_id": "d174b3d59c044079af55095a27d2e332",
    "tags": [],
    "deepnote_cell_type": "markdown",
    "deepnote_cell_height": 52.390625
   }
  },
  {
   "cell_type": "code",
   "source": "df['Institution Type'].astype('category')\ndf['Gender'].astype('category')\ndf['Network Type'].astype('category')\ndf['Financial Condition'].astype('category')\ndf['Adaptivity Level'].astype('category')",
   "metadata": {
    "cell_id": "15ea679f31c64ff2b45d011f8c7d2a7b",
    "tags": [],
    "deepnote_to_be_reexecuted": false,
    "source_hash": "e9eb3bd8",
    "execution_start": 1653021369445,
    "execution_millis": 9,
    "deepnote_cell_type": "code",
    "deepnote_cell_height": 420.4375,
    "deepnote_output_heights": [
     251.4375
    ]
   },
   "outputs": [
    {
     "output_type": "execute_result",
     "execution_count": 9,
     "data": {
      "text/plain": "0       Moderate\n1       Moderate\n2       Moderate\n3       Moderate\n4            Low\n          ...   \n1200         Low\n1201    Moderate\n1202    Moderate\n1203         Low\n1204    Moderate\nName: Adaptivity Level, Length: 1205, dtype: category\nCategories (3, object): ['High', 'Low', 'Moderate']"
     },
     "metadata": {}
    }
   ],
   "execution_count": 9
  },
  {
   "cell_type": "markdown",
   "source": "## Explorando datos",
   "metadata": {
    "cell_id": "9398dcfd160842d093c8d78fcba94456",
    "tags": [],
    "deepnote_cell_type": "markdown",
    "deepnote_cell_height": 70
   }
  },
  {
   "cell_type": "markdown",
   "source": "Conozcamos los datos que tenemos",
   "metadata": {
    "cell_id": "5d80ec04cd054256ae9a90cf32322038",
    "tags": [],
    "deepnote_cell_type": "markdown",
    "deepnote_cell_height": 52.390625
   }
  },
  {
   "cell_type": "code",
   "metadata": {
    "cell_id": "1544470b622541faa6dfef0f4b898b69",
    "tags": [],
    "deepnote_to_be_reexecuted": false,
    "source_hash": "f88152d9",
    "execution_start": 1653021369458,
    "execution_millis": 97,
    "deepnote_cell_type": "code",
    "deepnote_cell_height": 371
   },
   "source": "df.describe()",
   "execution_count": 10,
   "outputs": [
    {
     "output_type": "execute_result",
     "execution_count": 10,
     "data": {
      "application/vnd.deepnote.dataframe.v3+json": {
       "column_count": 12,
       "row_count": 4,
       "columns": [
        {
         "name": "Gender",
         "dtype": "object",
         "stats": {
          "unique_count": 4,
          "nan_count": 0,
          "categories": [
           {
            "name": "1205",
            "count": 1
           },
           {
            "name": "2",
            "count": 1
           },
           {
            "name": "2 others",
            "count": 2
           }
          ]
         }
        },
        {
         "name": "Age",
         "dtype": "object",
         "stats": {
          "unique_count": 4,
          "nan_count": 0,
          "categories": [
           {
            "name": "1205",
            "count": 1
           },
           {
            "name": "6",
            "count": 1
           },
           {
            "name": "2 others",
            "count": 2
           }
          ]
         }
        },
        {
         "name": "Education Level",
         "dtype": "object",
         "stats": {
          "unique_count": 4,
          "nan_count": 0,
          "categories": [
           {
            "name": "1205",
            "count": 1
           },
           {
            "name": "3",
            "count": 1
           },
           {
            "name": "2 others",
            "count": 2
           }
          ]
         }
        },
        {
         "name": "Institution Type",
         "dtype": "object",
         "stats": {
          "unique_count": 4,
          "nan_count": 0,
          "categories": [
           {
            "name": "1205",
            "count": 1
           },
           {
            "name": "2",
            "count": 1
           },
           {
            "name": "2 others",
            "count": 2
           }
          ]
         }
        },
        {
         "name": "IT Student",
         "dtype": "object",
         "stats": {
          "unique_count": 4,
          "nan_count": 0,
          "categories": [
           {
            "name": "1205",
            "count": 1
           },
           {
            "name": "2",
            "count": 1
           },
           {
            "name": "2 others",
            "count": 2
           }
          ]
         }
        },
        {
         "name": "Location",
         "dtype": "object",
         "stats": {
          "unique_count": 4,
          "nan_count": 0,
          "categories": [
           {
            "name": "1205",
            "count": 1
           },
           {
            "name": "2",
            "count": 1
           },
           {
            "name": "2 others",
            "count": 2
           }
          ]
         }
        },
        {
         "name": "Financial Condition",
         "dtype": "object",
         "stats": {
          "unique_count": 4,
          "nan_count": 0,
          "categories": [
           {
            "name": "1205",
            "count": 1
           },
           {
            "name": "3",
            "count": 1
           },
           {
            "name": "2 others",
            "count": 2
           }
          ]
         }
        },
        {
         "name": "Internet Type",
         "dtype": "object",
         "stats": {
          "unique_count": 4,
          "nan_count": 0,
          "categories": [
           {
            "name": "1205",
            "count": 1
           },
           {
            "name": "2",
            "count": 1
           },
           {
            "name": "2 others",
            "count": 2
           }
          ]
         }
        },
        {
         "name": "Network Type",
         "dtype": "object",
         "stats": {
          "unique_count": 4,
          "nan_count": 0,
          "categories": [
           {
            "name": "1205",
            "count": 1
           },
           {
            "name": "3",
            "count": 1
           },
           {
            "name": "2 others",
            "count": 2
           }
          ]
         }
        },
        {
         "name": "Class Duration",
         "dtype": "object",
         "stats": {
          "unique_count": 4,
          "nan_count": 0,
          "categories": [
           {
            "name": "1205",
            "count": 1
           },
           {
            "name": "3",
            "count": 1
           },
           {
            "name": "2 others",
            "count": 2
           }
          ]
         }
        },
        {
         "name": "Device",
         "dtype": "object",
         "stats": {
          "unique_count": 4,
          "nan_count": 0,
          "categories": [
           {
            "name": "1205",
            "count": 1
           },
           {
            "name": "3",
            "count": 1
           },
           {
            "name": "2 others",
            "count": 2
           }
          ]
         }
        },
        {
         "name": "Adaptivity Level",
         "dtype": "object",
         "stats": {
          "unique_count": 4,
          "nan_count": 0,
          "categories": [
           {
            "name": "1205",
            "count": 1
           },
           {
            "name": "3",
            "count": 1
           },
           {
            "name": "2 others",
            "count": 2
           }
          ]
         }
        },
        {
         "name": "_deepnote_index_column",
         "dtype": "object"
        }
       ],
       "rows": [
        {
         "Gender": "1205",
         "Age": "1205",
         "Education Level": "1205",
         "Institution Type": "1205",
         "IT Student": "1205",
         "Location": "1205",
         "Financial Condition": "1205",
         "Internet Type": "1205",
         "Network Type": "1205",
         "Class Duration": "1205",
         "Device": "1205",
         "Adaptivity Level": "1205",
         "_deepnote_index_column": "count"
        },
        {
         "Gender": "2",
         "Age": "6",
         "Education Level": "3",
         "Institution Type": "2",
         "IT Student": "2",
         "Location": "2",
         "Financial Condition": "3",
         "Internet Type": "2",
         "Network Type": "3",
         "Class Duration": "3",
         "Device": "3",
         "Adaptivity Level": "3",
         "_deepnote_index_column": "unique"
        },
        {
         "Gender": "Boy",
         "Age": "21-25",
         "Education Level": "School",
         "Institution Type": "Private",
         "IT Student": "No",
         "Location": "Town",
         "Financial Condition": "Mid",
         "Internet Type": "Mobile Data",
         "Network Type": "4G",
         "Class Duration": "1-3",
         "Device": "Mobile",
         "Adaptivity Level": "Moderate",
         "_deepnote_index_column": "top"
        },
        {
         "Gender": "663",
         "Age": "374",
         "Education Level": "530",
         "Institution Type": "823",
         "IT Student": "901",
         "Location": "935",
         "Financial Condition": "878",
         "Internet Type": "695",
         "Network Type": "775",
         "Class Duration": "840",
         "Device": "1013",
         "Adaptivity Level": "625",
         "_deepnote_index_column": "freq"
        }
       ]
      },
      "text/plain": "       Gender    Age Education Level Institution Type IT Student Location  \\\ncount    1205   1205            1205             1205       1205     1205   \nunique      2      6               3                2          2        2   \ntop       Boy  21-25          School          Private         No     Town   \nfreq      663    374             530              823        901      935   \n\n       Financial Condition Internet Type Network Type Class Duration  Device  \\\ncount                 1205          1205         1205           1205    1205   \nunique                   3             2            3              3       3   \ntop                    Mid   Mobile Data           4G            1-3  Mobile   \nfreq                   878           695          775            840    1013   \n\n       Adaptivity Level  \ncount              1205  \nunique                3  \ntop            Moderate  \nfreq                625  ",
      "text/html": "<div>\n<style scoped>\n    .dataframe tbody tr th:only-of-type {\n        vertical-align: middle;\n    }\n\n    .dataframe tbody tr th {\n        vertical-align: top;\n    }\n\n    .dataframe thead th {\n        text-align: right;\n    }\n</style>\n<table border=\"1\" class=\"dataframe\">\n  <thead>\n    <tr style=\"text-align: right;\">\n      <th></th>\n      <th>Gender</th>\n      <th>Age</th>\n      <th>Education Level</th>\n      <th>Institution Type</th>\n      <th>IT Student</th>\n      <th>Location</th>\n      <th>Financial Condition</th>\n      <th>Internet Type</th>\n      <th>Network Type</th>\n      <th>Class Duration</th>\n      <th>Device</th>\n      <th>Adaptivity Level</th>\n    </tr>\n  </thead>\n  <tbody>\n    <tr>\n      <th>count</th>\n      <td>1205</td>\n      <td>1205</td>\n      <td>1205</td>\n      <td>1205</td>\n      <td>1205</td>\n      <td>1205</td>\n      <td>1205</td>\n      <td>1205</td>\n      <td>1205</td>\n      <td>1205</td>\n      <td>1205</td>\n      <td>1205</td>\n    </tr>\n    <tr>\n      <th>unique</th>\n      <td>2</td>\n      <td>6</td>\n      <td>3</td>\n      <td>2</td>\n      <td>2</td>\n      <td>2</td>\n      <td>3</td>\n      <td>2</td>\n      <td>3</td>\n      <td>3</td>\n      <td>3</td>\n      <td>3</td>\n    </tr>\n    <tr>\n      <th>top</th>\n      <td>Boy</td>\n      <td>21-25</td>\n      <td>School</td>\n      <td>Private</td>\n      <td>No</td>\n      <td>Town</td>\n      <td>Mid</td>\n      <td>Mobile Data</td>\n      <td>4G</td>\n      <td>1-3</td>\n      <td>Mobile</td>\n      <td>Moderate</td>\n    </tr>\n    <tr>\n      <th>freq</th>\n      <td>663</td>\n      <td>374</td>\n      <td>530</td>\n      <td>823</td>\n      <td>901</td>\n      <td>935</td>\n      <td>878</td>\n      <td>695</td>\n      <td>775</td>\n      <td>840</td>\n      <td>1013</td>\n      <td>625</td>\n    </tr>\n  </tbody>\n</table>\n</div>"
     },
     "metadata": {}
    }
   ]
  },
  {
   "cell_type": "code",
   "metadata": {
    "cell_id": "c823e03cc7ee419eba178ae02044e812",
    "tags": [],
    "deepnote_to_be_reexecuted": false,
    "source_hash": "1a0617dc",
    "execution_start": 1653021369555,
    "execution_millis": 342,
    "deepnote_cell_type": "code",
    "deepnote_cell_height": 377.1875,
    "deepnote_output_heights": [
     21.1875,
     210,
     291
    ]
   },
   "source": "a = sns.FacetGrid(data=df, col='Gender')\na.map(sns.histplot, \"Adaptivity Level\")",
   "execution_count": 11,
   "outputs": [
    {
     "output_type": "execute_result",
     "execution_count": 11,
     "data": {
      "text/plain": "<seaborn.axisgrid.FacetGrid at 0x7f972a7cd7d0>"
     },
     "metadata": {}
    },
    {
     "data": {
      "text/plain": "<Figure size 432x216 with 2 Axes>",
      "image/png": "[encoded data removed]"
     },
     "metadata": {
      "needs_background": "light",
      "image/png": {
       "width": 424,
       "height": 208
      }
     },
     "output_type": "display_data"
    }
   ]
  },
  {
   "cell_type": "code",
   "source": "sns.histplot(data=df, x='Education Level')",
   "metadata": {
    "cell_id": "60054ad8f8234b6680faee0d036b12b3",
    "tags": [],
    "deepnote_to_be_reexecuted": false,
    "source_hash": "bfc237e",
    "execution_start": 1653021369944,
    "execution_millis": 135,
    "deepnote_cell_type": "code",
    "deepnote_cell_height": 583.1875,
    "deepnote_output_heights": [
     21.1875,
     434,
     284.484375
    ]
   },
   "outputs": [
    {
     "output_type": "execute_result",
     "execution_count": 12,
     "data": {
      "text/plain": "<AxesSubplot:xlabel='Education Level', ylabel='Count'>"
     },
     "metadata": {}
    },
    {
     "data": {
      "text/plain": "<Figure size 640x480 with 1 Axes>",
      "image/png": "[encoded data removed]"
     },
     "metadata": {
      "image/png": {
       "width": 571,
       "height": 432
      }
     },
     "output_type": "display_data"
    }
   ],
   "execution_count": 12
  },
  {
   "cell_type": "markdown",
   "source": "### Evaluemos las posibles limitaciones a la adaptabilidad online",
   "metadata": {
    "cell_id": "dee6dcf629a64b259f77e3b213806202",
    "tags": [],
    "deepnote_cell_type": "markdown",
    "deepnote_cell_height": 62
   }
  },
  {
   "cell_type": "markdown",
   "source": "#### Conectividad",
   "metadata": {
    "cell_id": "2e925f3e74e345a39bd733a5f74c07ef",
    "tags": [],
    "deepnote_cell_type": "markdown",
    "deepnote_cell_height": 54
   }
  },
  {
   "cell_type": "code",
   "source": "# mobile = df[(df['Device'] == 'Mobile')].count\ndevices = df.groupby(['Device']).count()\nnetwork = df.groupby(['Network Type']).count()\n\nfig, axes = plt.subplots(1,3, figsize=(16,8))\nsns.histplot(ax=axes[0], data=df, x='Device')\nsns.histplot(ax=axes[1], data=df, x='Network Type')\nsns.histplot(ax=axes[2], data=df, x='Internet Type')",
   "metadata": {
    "cell_id": "fba82feeff97447a83c7d4db2a49e8e1",
    "tags": [],
    "deepnote_to_be_reexecuted": false,
    "source_hash": "2bbd8868",
    "execution_start": 1653021370130,
    "execution_millis": 1033,
    "deepnote_cell_type": "code",
    "deepnote_cell_height": 721.296875,
    "deepnote_output_heights": [
     21.1875,
     446.109375
    ]
   },
   "outputs": [
    {
     "output_type": "execute_result",
     "execution_count": 13,
     "data": {
      "text/plain": "<AxesSubplot:xlabel='Internet Type', ylabel='Count'>"
     },
     "metadata": {}
    },
    {
     "data": {
      "text/plain": "<Figure size 1600x800 with 3 Axes>",
      "image/png": "[encoded data removed]"
     },
     "metadata": {
      "image/png": {
       "width": 1324,
       "height": 679
      }
     },
     "output_type": "display_data"
    }
   ],
   "execution_count": 13
  },
  {
   "cell_type": "code",
   "source": "sns.histplot(data=df, x='Location')",
   "metadata": {
    "cell_id": "26d0aadba00341208ff02eecab94dbde",
    "tags": [],
    "deepnote_to_be_reexecuted": false,
    "source_hash": "a7a24e1",
    "execution_start": 1653021370582,
    "execution_millis": 589,
    "deepnote_cell_type": "code",
    "deepnote_cell_height": 583.1875,
    "deepnote_output_heights": [
     21.1875,
     434
    ]
   },
   "outputs": [
    {
     "output_type": "execute_result",
     "execution_count": 14,
     "data": {
      "text/plain": "<AxesSubplot:xlabel='Location', ylabel='Count'>"
     },
     "metadata": {}
    },
    {
     "data": {
      "text/plain": "<Figure size 640x480 with 1 Axes>",
      "image/png": "[encoded data removed]"
     },
     "metadata": {
      "image/png": {
       "width": 571,
       "height": 432
      }
     },
     "output_type": "display_data"
    }
   ],
   "execution_count": 14
  },
  {
   "cell_type": "code",
   "source": "sns.histplot(data=df, x='Financial Condition')",
   "metadata": {
    "cell_id": "0a227051571c40fb8587c8f717649e51",
    "tags": [],
    "deepnote_to_be_reexecuted": false,
    "source_hash": "e6f2907b",
    "execution_start": 1653021370696,
    "execution_millis": 476,
    "deepnote_cell_type": "code",
    "deepnote_cell_height": 583.1875,
    "deepnote_output_heights": [
     21.1875,
     434
    ]
   },
   "outputs": [
    {
     "output_type": "execute_result",
     "execution_count": 15,
     "data": {
      "text/plain": "<AxesSubplot:xlabel='Financial Condition', ylabel='Count'>"
     },
     "metadata": {}
    },
    {
     "data": {
      "text/plain": "<Figure size 640x480 with 1 Axes>",
      "image/png": "[encoded data removed]"
     },
     "metadata": {
      "image/png": {
       "width": 571,
       "height": 432
      }
     },
     "output_type": "display_data"
    }
   ],
   "execution_count": 15
  },
  {
   "cell_type": "code",
   "source": "adaplow = df[(df['Adaptivity Level'] == 'Low')].count()\nadaplow",
   "metadata": {
    "cell_id": "3de706f350da4103a2e647464249ddd2",
    "tags": [],
    "deepnote_to_be_reexecuted": false,
    "source_hash": "de26bd95",
    "execution_start": 1653021390795,
    "execution_millis": 9,
    "deepnote_cell_type": "code",
    "deepnote_cell_height": 366.4375,
    "deepnote_output_heights": [
     251.4375
    ]
   },
   "outputs": [
    {
     "output_type": "execute_result",
     "execution_count": 17,
     "data": {
      "text/plain": "Gender                 480\nAge                    480\nEducation Level        480\nInstitution Type       480\nIT Student             480\nLocation               480\nFinancial Condition    480\nInternet Type          480\nNetwork Type           480\nClass Duration         480\nDevice                 480\nAdaptivity Level       480\ndtype: int64"
     },
     "metadata": {}
    }
   ],
   "execution_count": 17
  },
  {
   "cell_type": "code",
   "source": "adapm = df[(df['Adaptivity Level'] == 'Moderate')].count()\nadapm",
   "metadata": {
    "cell_id": "3fca5ffbe21842deab7fcd9256c92652",
    "tags": [],
    "deepnote_to_be_reexecuted": false,
    "source_hash": "a92eaa76",
    "execution_start": 1653021395248,
    "execution_millis": 633,
    "deepnote_cell_type": "code",
    "deepnote_cell_height": 366.4375,
    "deepnote_output_heights": [
     251.4375
    ]
   },
   "outputs": [
    {
     "output_type": "execute_result",
     "execution_count": 18,
     "data": {
      "text/plain": "Gender                 625\nAge                    625\nEducation Level        625\nInstitution Type       625\nIT Student             625\nLocation               625\nFinancial Condition    625\nInternet Type          625\nNetwork Type           625\nClass Duration         625\nDevice                 625\nAdaptivity Level       625\ndtype: int64"
     },
     "metadata": {}
    }
   ],
   "execution_count": 18
  },
  {
   "cell_type": "code",
   "source": "adaph = df[(df['Adaptivity Level'] == 'High')].count()\nadaph",
   "metadata": {
    "cell_id": "47b748b10a274b908ee19529a791fec6",
    "tags": [],
    "deepnote_to_be_reexecuted": false,
    "source_hash": "6d49fa11",
    "execution_start": 1653021403587,
    "execution_millis": 633,
    "deepnote_cell_type": "code",
    "deepnote_cell_height": 366.4375,
    "deepnote_output_heights": [
     251.4375
    ]
   },
   "outputs": [
    {
     "output_type": "execute_result",
     "execution_count": 19,
     "data": {
      "text/plain": "Gender                 100\nAge                    100\nEducation Level        100\nInstitution Type       100\nIT Student             100\nLocation               100\nFinancial Condition    100\nInternet Type          100\nNetwork Type           100\nClass Duration         100\nDevice                 100\nAdaptivity Level       100\ndtype: int64"
     },
     "metadata": {}
    }
   ],
   "execution_count": 19
  },
  {
   "cell_type": "code",
   "source": "sns.histplot(data=df, x='Age')",
   "metadata": {
    "cell_id": "04ca4acb441343acba01d71d1b5ef9f6",
    "tags": [],
    "deepnote_to_be_reexecuted": false,
    "source_hash": "5db50848",
    "execution_start": 1653021451230,
    "execution_millis": 204,
    "deepnote_cell_type": "code",
    "deepnote_cell_height": 583.1875,
    "deepnote_output_heights": [
     21.1875,
     434
    ]
   },
   "outputs": [
    {
     "output_type": "execute_result",
     "execution_count": 21,
     "data": {
      "text/plain": "<AxesSubplot:xlabel='Age', ylabel='Count'>"
     },
     "metadata": {}
    },
    {
     "data": {
      "text/plain": "<Figure size 640x480 with 1 Axes>",
      "image/png": "[encoded data removed]"
     },
     "metadata": {
      "image/png": {
       "width": 571,
       "height": 432
      }
     },
     "output_type": "display_data"
    }
   ],
   "execution_count": 21
  },
  {
   "cell_type": "markdown",
   "source": "<a style='text-decoration:none;line-height:16px;display:flex;color:#5B5B62;padding:10px;justify-content:end;' href='https://deepnote.com?utm_source=created-in-deepnote-cell&projectId=e60471dd-9764-48b5-a080-e5c55dbaa55b' target=\"_blank\">\n<img alt='Created in deepnote.com' style='display:inline;max-height:16px;margin:0px;margin-right:7.5px;' src='data:image/svg+xml;base64,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' > </img>\nCreated in <span style='font-weight:600;margin-left:4px;'>Deepnote</span></a>",
   "metadata": {
    "tags": [],
    "created_in_deepnote_cell": true,
    "deepnote_cell_type": "markdown"
   }
  }
 ],
 "nbformat": 4,
 "nbformat_minor": 2,
 "metadata": {
  "orig_nbformat": 2,
  "deepnote": {},
  "deepnote_notebook_id": "172b5397-cdd7-48d9-88f8-d76c902a16be",
  "deepnote_execution_queue": []
 }
}